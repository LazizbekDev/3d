{
  "nbformat": 4,
  "nbformat_minor": 0,
  "metadata": {
    "colab": {
      "provenance": [],
      "toc_visible": true,
      "authorship_tag": "ABX9TyO2MNMDEfT8u03FVql0s90Q",
      "include_colab_link": true
    },
    "kernelspec": {
      "name": "python3",
      "display_name": "Python 3"
    },
    "language_info": {
      "name": "python"
    }
  },
  "cells": [
    {
      "cell_type": "markdown",
      "metadata": {
        "id": "view-in-github",
        "colab_type": "text"
      },
      "source": [
        "<a href=\"https://colab.research.google.com/github/LazizbekDev/3d/blob/main/Untitled0.ipynb\" target=\"_parent\"><img src=\"https://colab.research.google.com/assets/colab-badge.svg\" alt=\"Open In Colab\"/></a>"
      ]
    },
    {
      "cell_type": "code",
      "execution_count": 4,
      "metadata": {
        "colab": {
          "base_uri": "https://localhost:8080/"
        },
        "id": "nHvKow4sw3l6",
        "outputId": "265d3f7a-eba3-45f9-a5a9-df56ee8a3493"
      },
      "outputs": [
        {
          "output_type": "stream",
          "name": "stdout",
          "text": [
            "               FISH                     Fani Mashg'ulot turi  \\\n",
            "0  Qadamova Zulayho                       AI          Amaliy   \n",
            "1         I. Azizov  Sotib olish tamoyillari          Amaliy   \n",
            "2        A.Navrozov        Mikro iqtisodiyot          Maruza   \n",
            "3        S. Karimov                       AI          Maruza   \n",
            "\n",
            "                 Kafedrasi  \n",
            "0  Axborot Texnologiyalari  \n",
            "1                  Iqtisod  \n",
            "2                  Iqtisod  \n",
            "3  Axborot Texnologiyalari  \n"
          ]
        }
      ],
      "source": [
        "import pandas as pd\n",
        "\n",
        "teacher = pd.DataFrame({\n",
        "    'FISH': [\"Qadamova Zulayho\", \"I. Azizov\", \"A.Navrozov\", \"S. Karimov\"],\n",
        "    \"Fani\": [\"AI\", \"Sotib olish tamoyillari\", \"Mikro iqtisodiyot\", \"AI\"],\n",
        "    \"Mashg'ulot turi\": [\"Amaliy\", \"Amaliy\", \"Maruza\", \"Maruza\"],\n",
        "    \"Kafedrasi\": [\"Axborot Texnologiyalari\", \"Iqtisod\", \"Iqtisod\",\"Axborot Texnologiyalari\"]\n",
        "})\n",
        "\n",
        "print(teacher)"
      ]
    },
    {
      "cell_type": "code",
      "source": [],
      "metadata": {
        "id": "STzx2xoNyP6Z"
      },
      "execution_count": null,
      "outputs": []
    }
  ]
}